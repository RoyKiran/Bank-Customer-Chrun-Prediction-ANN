{
 "cells": [
  {
   "cell_type": "markdown",
   "metadata": {},
   "source": [
    "# Artificial Neural Network"
   ]
  },
  {
   "cell_type": "markdown",
   "metadata": {},
   "source": [
    "Predict if a customer will exit from a bank or not"
   ]
  },
  {
   "cell_type": "markdown",
   "metadata": {},
   "source": [
    "### Import Libraries"
   ]
  },
  {
   "cell_type": "code",
   "execution_count": 2,
   "metadata": {},
   "outputs": [
    {
     "name": "stdout",
     "output_type": "stream",
     "text": [
      "Requirement already satisfied: tensorflow in d:\\anaconda3\\lib\\site-packages (2.2.0)\n",
      "Requirement already satisfied: opt-einsum>=2.3.2 in d:\\anaconda3\\lib\\site-packages (from tensorflow) (3.2.1)\n",
      "Requirement already satisfied: numpy<2.0,>=1.16.0 in d:\\anaconda3\\lib\\site-packages (from tensorflow) (1.18.1)\n",
      "Requirement already satisfied: tensorflow-estimator<2.3.0,>=2.2.0 in d:\\anaconda3\\lib\\site-packages (from tensorflow) (2.2.0)\n",
      "Requirement already satisfied: scipy==1.4.1; python_version >= \"3\" in d:\\anaconda3\\lib\\site-packages (from tensorflow) (1.4.1)\n",
      "Requirement already satisfied: termcolor>=1.1.0 in d:\\anaconda3\\lib\\site-packages (from tensorflow) (1.1.0)\n",
      "Requirement already satisfied: absl-py>=0.7.0 in d:\\anaconda3\\lib\\site-packages (from tensorflow) (0.9.0)\n",
      "Requirement already satisfied: wheel>=0.26; python_version >= \"3\" in d:\\anaconda3\\lib\\site-packages (from tensorflow) (0.34.2)\n",
      "Requirement already satisfied: google-pasta>=0.1.8 in d:\\anaconda3\\lib\\site-packages (from tensorflow) (0.2.0)\n",
      "Requirement already satisfied: astunparse==1.6.3 in d:\\anaconda3\\lib\\site-packages (from tensorflow) (1.6.3)\n",
      "Requirement already satisfied: wrapt>=1.11.1 in c:\\users\\work is fun\\appdata\\roaming\\python\\python37\\site-packages (from tensorflow) (1.11.2)\n",
      "Requirement already satisfied: tensorboard<2.3.0,>=2.2.0 in d:\\anaconda3\\lib\\site-packages (from tensorflow) (2.2.2)\n",
      "Requirement already satisfied: grpcio>=1.8.6 in d:\\anaconda3\\lib\\site-packages (from tensorflow) (1.30.0)\n",
      "Requirement already satisfied: h5py<2.11.0,>=2.10.0 in d:\\anaconda3\\lib\\site-packages (from tensorflow) (2.10.0)\n",
      "Requirement already satisfied: protobuf>=3.8.0 in d:\\anaconda3\\lib\\site-packages (from tensorflow) (3.12.2)\n",
      "Requirement already satisfied: six>=1.12.0 in c:\\users\\work is fun\\appdata\\roaming\\python\\python37\\site-packages (from tensorflow) (1.12.0)\n",
      "Requirement already satisfied: gast==0.3.3 in d:\\anaconda3\\lib\\site-packages (from tensorflow) (0.3.3)\n",
      "Requirement already satisfied: keras-preprocessing>=1.1.0 in d:\\anaconda3\\lib\\site-packages (from tensorflow) (1.1.2)\n",
      "Requirement already satisfied: google-auth-oauthlib<0.5,>=0.4.1 in d:\\anaconda3\\lib\\site-packages (from tensorboard<2.3.0,>=2.2.0->tensorflow) (0.4.1)\n",
      "Requirement already satisfied: google-auth<2,>=1.6.3 in d:\\anaconda3\\lib\\site-packages (from tensorboard<2.3.0,>=2.2.0->tensorflow) (1.18.0)\n",
      "Requirement already satisfied: werkzeug>=0.11.15 in d:\\anaconda3\\lib\\site-packages (from tensorboard<2.3.0,>=2.2.0->tensorflow) (1.0.0)\n",
      "Requirement already satisfied: markdown>=2.6.8 in d:\\anaconda3\\lib\\site-packages (from tensorboard<2.3.0,>=2.2.0->tensorflow) (3.2.2)\n",
      "Requirement already satisfied: setuptools>=41.0.0 in d:\\anaconda3\\lib\\site-packages (from tensorboard<2.3.0,>=2.2.0->tensorflow) (45.2.0.post20200210)\n",
      "Requirement already satisfied: tensorboard-plugin-wit>=1.6.0 in d:\\anaconda3\\lib\\site-packages (from tensorboard<2.3.0,>=2.2.0->tensorflow) (1.7.0)\n",
      "Requirement already satisfied: requests<3,>=2.21.0 in d:\\anaconda3\\lib\\site-packages (from tensorboard<2.3.0,>=2.2.0->tensorflow) (2.22.0)\n",
      "Requirement already satisfied: requests-oauthlib>=0.7.0 in d:\\anaconda3\\lib\\site-packages (from google-auth-oauthlib<0.5,>=0.4.1->tensorboard<2.3.0,>=2.2.0->tensorflow) (1.3.0)\n",
      "Requirement already satisfied: rsa<5,>=3.1.4; python_version >= \"3\" in d:\\anaconda3\\lib\\site-packages (from google-auth<2,>=1.6.3->tensorboard<2.3.0,>=2.2.0->tensorflow) (4.6)\n",
      "Requirement already satisfied: pyasn1-modules>=0.2.1 in d:\\anaconda3\\lib\\site-packages (from google-auth<2,>=1.6.3->tensorboard<2.3.0,>=2.2.0->tensorflow) (0.2.8)\n",
      "Requirement already satisfied: cachetools<5.0,>=2.0.0 in d:\\anaconda3\\lib\\site-packages (from google-auth<2,>=1.6.3->tensorboard<2.3.0,>=2.2.0->tensorflow) (4.1.1)\n",
      "Requirement already satisfied: importlib-metadata; python_version < \"3.8\" in d:\\anaconda3\\lib\\site-packages (from markdown>=2.6.8->tensorboard<2.3.0,>=2.2.0->tensorflow) (1.5.0)\n",
      "Requirement already satisfied: urllib3!=1.25.0,!=1.25.1,<1.26,>=1.21.1 in d:\\anaconda3\\lib\\site-packages (from requests<3,>=2.21.0->tensorboard<2.3.0,>=2.2.0->tensorflow) (1.25.8)\n",
      "Requirement already satisfied: certifi>=2017.4.17 in d:\\anaconda3\\lib\\site-packages (from requests<3,>=2.21.0->tensorboard<2.3.0,>=2.2.0->tensorflow) (2019.11.28)\n",
      "Requirement already satisfied: idna<2.9,>=2.5 in d:\\anaconda3\\lib\\site-packages (from requests<3,>=2.21.0->tensorboard<2.3.0,>=2.2.0->tensorflow) (2.8)\n",
      "Requirement already satisfied: chardet<3.1.0,>=3.0.2 in d:\\anaconda3\\lib\\site-packages (from requests<3,>=2.21.0->tensorboard<2.3.0,>=2.2.0->tensorflow) (3.0.4)\n",
      "Requirement already satisfied: oauthlib>=3.0.0 in d:\\anaconda3\\lib\\site-packages (from requests-oauthlib>=0.7.0->google-auth-oauthlib<0.5,>=0.4.1->tensorboard<2.3.0,>=2.2.0->tensorflow) (3.1.0)\n",
      "Requirement already satisfied: pyasn1>=0.1.3 in d:\\anaconda3\\lib\\site-packages (from rsa<5,>=3.1.4; python_version >= \"3\"->google-auth<2,>=1.6.3->tensorboard<2.3.0,>=2.2.0->tensorflow) (0.4.8)\n",
      "Requirement already satisfied: zipp>=0.5 in d:\\anaconda3\\lib\\site-packages (from importlib-metadata; python_version < \"3.8\"->markdown>=2.6.8->tensorboard<2.3.0,>=2.2.0->tensorflow) (2.2.0)\n"
     ]
    }
   ],
   "source": [
    "!pip install tensorflow --user"
   ]
  },
  {
   "cell_type": "code",
   "execution_count": 1,
   "metadata": {},
   "outputs": [],
   "source": [
    "import numpy as np\n",
    "import pandas as pd\n",
    "import tensorflow as tf"
   ]
  },
  {
   "cell_type": "code",
   "execution_count": 2,
   "metadata": {},
   "outputs": [
    {
     "data": {
      "text/plain": [
       "'2.1.0'"
      ]
     },
     "execution_count": 2,
     "metadata": {},
     "output_type": "execute_result"
    }
   ],
   "source": [
    "tf.__version__  # From tensorflow 2.0, keras is integrated in tensorflow "
   ]
  },
  {
   "cell_type": "markdown",
   "metadata": {},
   "source": [
    "### Step 1: Data Preprocessing\n",
    "\n",
    "#### A) Import dataset"
   ]
  },
  {
   "cell_type": "code",
   "execution_count": 3,
   "metadata": {},
   "outputs": [
    {
     "name": "stdout",
     "output_type": "stream",
     "text": [
      "['.DS_Store', '.ipynb_checkpoints', 'ChurnPrediction_ANN.ipynb', 'Churn_Modelling.csv']\n"
     ]
    }
   ],
   "source": [
    "import os\n",
    "print(os.listdir(r'../'))"
   ]
  },
  {
   "cell_type": "code",
   "execution_count": 4,
   "metadata": {},
   "outputs": [
    {
     "data": {
      "text/plain": [
       "Index(['RowNumber', 'CustomerId', 'Surname', 'CreditScore', 'Geography',\n",
       "       'Gender', 'Age', 'Tenure', 'Balance', 'NumOfProducts', 'HasCrCard',\n",
       "       'IsActiveMember', 'EstimatedSalary', 'Exited'],\n",
       "      dtype='object')"
      ]
     },
     "execution_count": 4,
     "metadata": {},
     "output_type": "execute_result"
    }
   ],
   "source": [
    "path = r'Churn_Modelling.csv'\n",
    "dataset = pd.read_csv(path)\n",
    "dataset.columns"
   ]
  },
  {
   "cell_type": "code",
   "execution_count": 5,
   "metadata": {},
   "outputs": [
    {
     "data": {
      "text/html": [
       "<div>\n",
       "<style scoped>\n",
       "    .dataframe tbody tr th:only-of-type {\n",
       "        vertical-align: middle;\n",
       "    }\n",
       "\n",
       "    .dataframe tbody tr th {\n",
       "        vertical-align: top;\n",
       "    }\n",
       "\n",
       "    .dataframe thead th {\n",
       "        text-align: right;\n",
       "    }\n",
       "</style>\n",
       "<table border=\"1\" class=\"dataframe\">\n",
       "  <thead>\n",
       "    <tr style=\"text-align: right;\">\n",
       "      <th></th>\n",
       "      <th>RowNumber</th>\n",
       "      <th>CustomerId</th>\n",
       "      <th>Surname</th>\n",
       "      <th>CreditScore</th>\n",
       "      <th>Geography</th>\n",
       "      <th>Gender</th>\n",
       "      <th>Age</th>\n",
       "      <th>Tenure</th>\n",
       "      <th>Balance</th>\n",
       "      <th>NumOfProducts</th>\n",
       "      <th>HasCrCard</th>\n",
       "      <th>IsActiveMember</th>\n",
       "      <th>EstimatedSalary</th>\n",
       "      <th>Exited</th>\n",
       "    </tr>\n",
       "  </thead>\n",
       "  <tbody>\n",
       "    <tr>\n",
       "      <th>0</th>\n",
       "      <td>1</td>\n",
       "      <td>15634602</td>\n",
       "      <td>Hargrave</td>\n",
       "      <td>619</td>\n",
       "      <td>France</td>\n",
       "      <td>Female</td>\n",
       "      <td>42</td>\n",
       "      <td>2</td>\n",
       "      <td>0.00</td>\n",
       "      <td>1</td>\n",
       "      <td>1</td>\n",
       "      <td>1</td>\n",
       "      <td>101348.88</td>\n",
       "      <td>1</td>\n",
       "    </tr>\n",
       "    <tr>\n",
       "      <th>1</th>\n",
       "      <td>2</td>\n",
       "      <td>15647311</td>\n",
       "      <td>Hill</td>\n",
       "      <td>608</td>\n",
       "      <td>Spain</td>\n",
       "      <td>Female</td>\n",
       "      <td>41</td>\n",
       "      <td>1</td>\n",
       "      <td>83807.86</td>\n",
       "      <td>1</td>\n",
       "      <td>0</td>\n",
       "      <td>1</td>\n",
       "      <td>112542.58</td>\n",
       "      <td>0</td>\n",
       "    </tr>\n",
       "    <tr>\n",
       "      <th>2</th>\n",
       "      <td>3</td>\n",
       "      <td>15619304</td>\n",
       "      <td>Onio</td>\n",
       "      <td>502</td>\n",
       "      <td>France</td>\n",
       "      <td>Female</td>\n",
       "      <td>42</td>\n",
       "      <td>8</td>\n",
       "      <td>159660.80</td>\n",
       "      <td>3</td>\n",
       "      <td>1</td>\n",
       "      <td>0</td>\n",
       "      <td>113931.57</td>\n",
       "      <td>1</td>\n",
       "    </tr>\n",
       "    <tr>\n",
       "      <th>3</th>\n",
       "      <td>4</td>\n",
       "      <td>15701354</td>\n",
       "      <td>Boni</td>\n",
       "      <td>699</td>\n",
       "      <td>France</td>\n",
       "      <td>Female</td>\n",
       "      <td>39</td>\n",
       "      <td>1</td>\n",
       "      <td>0.00</td>\n",
       "      <td>2</td>\n",
       "      <td>0</td>\n",
       "      <td>0</td>\n",
       "      <td>93826.63</td>\n",
       "      <td>0</td>\n",
       "    </tr>\n",
       "    <tr>\n",
       "      <th>4</th>\n",
       "      <td>5</td>\n",
       "      <td>15737888</td>\n",
       "      <td>Mitchell</td>\n",
       "      <td>850</td>\n",
       "      <td>Spain</td>\n",
       "      <td>Female</td>\n",
       "      <td>43</td>\n",
       "      <td>2</td>\n",
       "      <td>125510.82</td>\n",
       "      <td>1</td>\n",
       "      <td>1</td>\n",
       "      <td>1</td>\n",
       "      <td>79084.10</td>\n",
       "      <td>0</td>\n",
       "    </tr>\n",
       "  </tbody>\n",
       "</table>\n",
       "</div>"
      ],
      "text/plain": [
       "   RowNumber  CustomerId   Surname  CreditScore Geography  Gender  Age  \\\n",
       "0          1    15634602  Hargrave          619    France  Female   42   \n",
       "1          2    15647311      Hill          608     Spain  Female   41   \n",
       "2          3    15619304      Onio          502    France  Female   42   \n",
       "3          4    15701354      Boni          699    France  Female   39   \n",
       "4          5    15737888  Mitchell          850     Spain  Female   43   \n",
       "\n",
       "   Tenure    Balance  NumOfProducts  HasCrCard  IsActiveMember  \\\n",
       "0       2       0.00              1          1               1   \n",
       "1       1   83807.86              1          0               1   \n",
       "2       8  159660.80              3          1               0   \n",
       "3       1       0.00              2          0               0   \n",
       "4       2  125510.82              1          1               1   \n",
       "\n",
       "   EstimatedSalary  Exited  \n",
       "0        101348.88       1  \n",
       "1        112542.58       0  \n",
       "2        113931.57       1  \n",
       "3         93826.63       0  \n",
       "4         79084.10       0  "
      ]
     },
     "execution_count": 5,
     "metadata": {},
     "output_type": "execute_result"
    }
   ],
   "source": [
    "dataset.head()"
   ]
  },
  {
   "cell_type": "code",
   "execution_count": 6,
   "metadata": {},
   "outputs": [],
   "source": [
    "x = dataset.iloc[:,3:-1].values   # Excluding RowNumber & CustomerId columns (as they are unique for each record) & the target column\n",
    "y = dataset.iloc[:,-1].values     # Extracting only the target column - Exited"
   ]
  },
  {
   "cell_type": "code",
   "execution_count": 7,
   "metadata": {},
   "outputs": [
    {
     "name": "stdout",
     "output_type": "stream",
     "text": [
      "[[619 'France' 'Female' ... 1 1 101348.88]\n",
      " [608 'Spain' 'Female' ... 0 1 112542.58]\n",
      " [502 'France' 'Female' ... 1 0 113931.57]\n",
      " ...\n",
      " [709 'France' 'Female' ... 0 1 42085.58]\n",
      " [772 'Germany' 'Male' ... 1 0 92888.52]\n",
      " [792 'France' 'Female' ... 1 0 38190.78]]\n",
      "[1 0 1 ... 1 1 0]\n"
     ]
    }
   ],
   "source": [
    "print(x)\n",
    "print(y)"
   ]
  },
  {
   "cell_type": "markdown",
   "metadata": {},
   "source": [
    "#### B) Take care of missing data"
   ]
  },
  {
   "cell_type": "code",
   "execution_count": 8,
   "metadata": {},
   "outputs": [
    {
     "name": "stdout",
     "output_type": "stream",
     "text": [
      "[[619 'France' 'Female' ... 1 1 101348.88]\n",
      " [608 'Spain' 'Female' ... 0 1 112542.58]\n",
      " [502 'France' 'Female' ... 1 0 113931.57]\n",
      " ...\n",
      " [709 'France' 'Female' ... 0 1 42085.58]\n",
      " [772 'Germany' 'Male' ... 1 0 92888.52]\n",
      " [792 'France' 'Female' ... 1 0 38190.78]]\n"
     ]
    }
   ],
   "source": [
    "# https://scikit-learn.org/stable/modules/generated/sklearn.impute.SimpleImputer.html\n",
    "from sklearn.impute import SimpleImputer\n",
    "imputer = SimpleImputer(missing_values = np.nan, strategy = 'most_frequent')\n",
    "imputer.fit(x[:,1:3])\n",
    "x[:,1:3] = imputer.transform(x[:,1:3])\n",
    "\n",
    "print(x)"
   ]
  },
  {
   "cell_type": "markdown",
   "metadata": {},
   "source": [
    "#### C) Encoding Categorical Data"
   ]
  },
  {
   "cell_type": "markdown",
   "metadata": {},
   "source": [
    "<b><u> Encoding dependent variable </u> </b> <br>\n",
    "<strong> Label Encoding the \"Gender\" Column </strong>"
   ]
  },
  {
   "cell_type": "code",
   "execution_count": 9,
   "metadata": {},
   "outputs": [],
   "source": [
    "from sklearn.preprocessing import LabelEncoder\n",
    "encoder = LabelEncoder()\n",
    "x[:,2] = encoder.fit_transform(x[:,2])"
   ]
  },
  {
   "cell_type": "code",
   "execution_count": 10,
   "metadata": {},
   "outputs": [
    {
     "name": "stdout",
     "output_type": "stream",
     "text": [
      "[[619 'France' 0 ... 1 1 101348.88]\n",
      " [608 'Spain' 0 ... 0 1 112542.58]\n",
      " [502 'France' 0 ... 1 0 113931.57]\n",
      " ...\n",
      " [709 'France' 0 ... 0 1 42085.58]\n",
      " [772 'Germany' 1 ... 1 0 92888.52]\n",
      " [792 'France' 0 ... 1 0 38190.78]]\n"
     ]
    }
   ],
   "source": [
    "print(x)"
   ]
  },
  {
   "cell_type": "markdown",
   "metadata": {},
   "source": [
    "<b><u> Encoding independent variable </u> </b> <br>\n",
    "<strong> One Hot Encoding the \"Georaphy\"/\"Country\" Column </strong>"
   ]
  },
  {
   "cell_type": "code",
   "execution_count": 11,
   "metadata": {},
   "outputs": [
    {
     "name": "stdout",
     "output_type": "stream",
     "text": [
      "[[1.0 0.0 0.0 ... 1 1 101348.88]\n",
      " [0.0 0.0 1.0 ... 0 1 112542.58]\n",
      " [1.0 0.0 0.0 ... 1 0 113931.57]\n",
      " ...\n",
      " [1.0 0.0 0.0 ... 0 1 42085.58]\n",
      " [0.0 1.0 0.0 ... 1 0 92888.52]\n",
      " [1.0 0.0 0.0 ... 1 0 38190.78]]\n"
     ]
    }
   ],
   "source": [
    "from sklearn.compose import ColumnTransformer\n",
    "from sklearn.preprocessing import OneHotEncoder\n",
    "ct = ColumnTransformer(transformers=[('encoder',OneHotEncoder(), [1])], remainder='passthrough')  # [1] implies column 1 - Geography\n",
    "encoder = OneHotEncoder()\n",
    "x = np.array(ct.fit_transform(x))\n",
    "\n",
    "print(x)"
   ]
  },
  {
   "cell_type": "code",
   "execution_count": 25,
   "metadata": {},
   "outputs": [
    {
     "data": {
      "text/plain": [
       "array([1.0, 0.0, 0.0, 502, 0, 42, 8, 159660.8, 3, 1, 0, 113931.57],\n",
       "      dtype=object)"
      ]
     },
     "execution_count": 25,
     "metadata": {},
     "output_type": "execute_result"
    }
   ],
   "source": [
    "x[2]"
   ]
  },
  {
   "cell_type": "markdown",
   "metadata": {},
   "source": [
    "#### D) Splitting dataset into training& test set"
   ]
  },
  {
   "cell_type": "code",
   "execution_count": 12,
   "metadata": {},
   "outputs": [],
   "source": [
    "from sklearn.model_selection import train_test_split\n",
    "x_train,x_test, y_train,y_test = train_test_split(x,y,test_size=0.2, random_state=0)"
   ]
  },
  {
   "cell_type": "markdown",
   "metadata": {},
   "source": [
    "#### E) Feature Scaling --- Mandatory step in deep learning"
   ]
  },
  {
   "cell_type": "code",
   "execution_count": 13,
   "metadata": {},
   "outputs": [],
   "source": [
    "from sklearn.preprocessing import StandardScaler\n",
    "sc = StandardScaler()\n",
    "#x_train [:,3:] = sc.fit_transform(x_train[:,3:])\n",
    "x_train  = sc.fit_transform(x_train)\n",
    "#x_test [:,3:] = sc.transform(x_test[:,3:])\n",
    "x_test  = sc.transform(x_test)"
   ]
  },
  {
   "cell_type": "code",
   "execution_count": 14,
   "metadata": {},
   "outputs": [
    {
     "name": "stdout",
     "output_type": "stream",
     "text": [
      "[[-1.01460667 -0.5698444   1.74309049 ...  0.64259497 -1.03227043\n",
      "   1.10643166]\n",
      " [-1.01460667  1.75486502 -0.57369368 ...  0.64259497  0.9687384\n",
      "  -0.74866447]\n",
      " [ 0.98560362 -0.5698444  -0.57369368 ...  0.64259497 -1.03227043\n",
      "   1.48533467]\n",
      " ...\n",
      " [ 0.98560362 -0.5698444  -0.57369368 ...  0.64259497 -1.03227043\n",
      "   1.41231994]\n",
      " [-1.01460667 -0.5698444   1.74309049 ...  0.64259497  0.9687384\n",
      "   0.84432121]\n",
      " [-1.01460667  1.75486502 -0.57369368 ...  0.64259497 -1.03227043\n",
      "   0.32472465]]\n"
     ]
    }
   ],
   "source": [
    "print(x_train)"
   ]
  },
  {
   "cell_type": "markdown",
   "metadata": {},
   "source": [
    "### Step 2: Build ANN\n",
    "\n",
    "#### A) Initializing ANN as a sequence of layers"
   ]
  },
  {
   "cell_type": "code",
   "execution_count": 15,
   "metadata": {},
   "outputs": [],
   "source": [
    "ann = tf.keras.models.Sequential()   # Initialize ann as a sequence of layers"
   ]
  },
  {
   "cell_type": "markdown",
   "metadata": {},
   "source": [
    "#### B) Adding input layer & first hidden Layer"
   ]
  },
  {
   "cell_type": "code",
   "execution_count": 16,
   "metadata": {},
   "outputs": [],
   "source": [
    "# To add fully connected layer into ANN, use the dense class\n",
    "#ann.add(tf.keras.layers.Dense(units=6, activation='relu'))\n",
    "ann.add(tf.keras.layers.Dense(units=6, activation='relu', kernel_initializer='uniform', input_dim=11))   # Dense(units -> no. of neurons in first hidden layer)  -- no. of neurons depends on input columns or is totally experimental"
   ]
  },
  {
   "cell_type": "markdown",
   "metadata": {},
   "source": [
    "#### C) Adding second hidden Layer"
   ]
  },
  {
   "cell_type": "code",
   "execution_count": 17,
   "metadata": {},
   "outputs": [],
   "source": [
    "# To add fully connected layer into ANN, use the dense class\n",
    "ann.add(tf.keras.layers.Dense(units=6, activation='relu'))   # Dense(units -> no. of neurons in the layer)  -- no. of neurons depends on input columns or is totally experimental"
   ]
  },
  {
   "cell_type": "markdown",
   "metadata": {},
   "source": [
    "#### D) Adding the output layer"
   ]
  },
  {
   "cell_type": "code",
   "execution_count": 18,
   "metadata": {},
   "outputs": [],
   "source": [
    "# To add fully connected layer into ANN, use the dense class\n",
    "ann.add(tf.keras.layers.Dense(units=1, activation='sigmoid'))  # output is 1 or 0, hence one neuron would sufficient to show to output from the interliked/dependent outcomes\n",
    "'''\n",
    "Activation function is sigmoid, bcoz we want to know with what probability are we getting the output.\n",
    "For binary classification, activitation function can be sigmoid,\n",
    "For non-binary classification, activation function should be softmax\n",
    "'''"
   ]
  },
  {
   "cell_type": "markdown",
   "metadata": {},
   "source": [
    "### Step 3: Training the ANN"
   ]
  },
  {
   "cell_type": "markdown",
   "metadata": {},
   "source": [
    "#### A) Compile the ANN with optimizer/loss function"
   ]
  },
  {
   "cell_type": "code",
   "execution_count": 20,
   "metadata": {},
   "outputs": [
    {
     "data": {
      "text/plain": [
       "\"\\n # compile(optimizer, loss, metrics)\\n \\n optimizer: String (name of optimizer) or optimizer instance. See `tf.keras.optimizers`.\\n        The best optimizer is the Gradient descent &\\n        the best in them is the Adam Optimizer that performs stocastic Gradient Descent (update wts to reduce loss/error in each ). \\n loss: String (name of objective function), objective function or\\n        `tf.keras.losses.Loss` instance. See `tf.keras.losses`. An objective\\n        function is any callable with the signature\\n        `scalar_loss = fn(y_true, y_pred)`. If the model has multiple\\n        outputs, you can use a different loss on each output by passing a\\n        dictionary or a list of losses. The loss value that will be\\n        minimized by the model will then be the sum of all individual\\n        losses.\\n        For binary classification, where u have to predict a binary outcome, the loss function will be binary_crossentropy.\\n        For non-binary classification, use categorical_crossentropy.\\n metrics: Evaluation metrics -  List of metrics to be evaluated by the model during training\\n        and testing. Typically you will use `metrics=['accuracy']`.\\n        To specify different metrics for different outputs of a\\n        multi-output model, you could also pass a dictionary, such as\\n        `metrics={'output_a': 'accuracy', 'output_b': ['accuracy', 'mse']}`.\\n        You can also pass a list (len = len(outputs)) of lists of metrics\\n        such as `metrics=[['accuracy'], ['accuracy', 'mse']]` or\\n        `metrics=['accuracy', ['accuracy', 'mse']]`.\\n\""
      ]
     },
     "execution_count": 20,
     "metadata": {},
     "output_type": "execute_result"
    }
   ],
   "source": [
    "ann.compile(optimizer= 'adam' , loss='binary_crossentropy' , metrics= ['accuracy'] ) \n",
    "'''\n",
    " # compile(optimizer, loss, metrics)\n",
    " \n",
    " optimizer: String (name of optimizer) or optimizer instance. See `tf.keras.optimizers`.\n",
    "        The best optimizer is the Gradient descent &\n",
    "        the best in them is the Adam Optimizer that performs stocastic Gradient Descent (update wts to reduce loss/error in each ). \n",
    " loss: String (name of objective function), objective function or\n",
    "        `tf.keras.losses.Loss` instance. See `tf.keras.losses`. An objective\n",
    "        function is any callable with the signature\n",
    "        `scalar_loss = fn(y_true, y_pred)`. If the model has multiple\n",
    "        outputs, you can use a different loss on each output by passing a\n",
    "        dictionary or a list of losses. The loss value that will be\n",
    "        minimized by the model will then be the sum of all individual\n",
    "        losses.\n",
    "        For binary classification, where u have to predict a binary outcome, the loss function will be binary_crossentropy.\n",
    "        For non-binary classification, use categorical_crossentropy.\n",
    " metrics: Evaluation metrics -  List of metrics to be evaluated by the model during training\n",
    "        and testing. Typically you will use `metrics=['accuracy']`.\n",
    "        To specify different metrics for different outputs of a\n",
    "        multi-output model, you could also pass a dictionary, such as\n",
    "        `metrics={'output_a': 'accuracy', 'output_b': ['accuracy', 'mse']}`.\n",
    "        You can also pass a list (len = len(outputs)) of lists of metrics\n",
    "        such as `metrics=[['accuracy'], ['accuracy', 'mse']]` or\n",
    "        `metrics=['accuracy', ['accuracy', 'mse']]`.\n",
    "'''"
   ]
  },
  {
   "cell_type": "markdown",
   "metadata": {},
   "source": [
    "#### Training the ANN on Training Set"
   ]
  },
  {
   "cell_type": "code",
   "execution_count": 21,
   "metadata": {},
   "outputs": [
    {
     "name": "stdout",
     "output_type": "stream",
     "text": [
      "Train on 8000 samples\n",
      "Epoch 1/100\n",
      "8000/8000 [==============================] - 9s 1ms/sample - loss: 0.5493 - accuracy: 0.7922\n",
      "Epoch 2/100\n",
      "8000/8000 [==============================] - 1s 135us/sample - loss: 0.4697 - accuracy: 0.7960\n",
      "Epoch 3/100\n",
      "8000/8000 [==============================] - 1s 96us/sample - loss: 0.4425 - accuracy: 0.7985\n",
      "Epoch 4/100\n",
      "8000/8000 [==============================] - 1s 94us/sample - loss: 0.4294 - accuracy: 0.8092s - loss: 0\n",
      "Epoch 5/100\n",
      "8000/8000 [==============================] - 1s 108us/sample - loss: 0.4221 - accuracy: 0.8159\n",
      "Epoch 6/100\n",
      "8000/8000 [==============================] - 1s 116us/sample - loss: 0.4172 - accuracy: 0.8216\n",
      "Epoch 7/100\n",
      "8000/8000 [==============================] - 1s 119us/sample - loss: 0.4134 - accuracy: 0.8241\n",
      "Epoch 8/100\n",
      "8000/8000 [==============================] - 1s 117us/sample - loss: 0.4104 - accuracy: 0.8280\n",
      "Epoch 9/100\n",
      "8000/8000 [==============================] - 1s 86us/sample - loss: 0.4079 - accuracy: 0.8275\n",
      "Epoch 10/100\n",
      "8000/8000 [==============================] - 1s 74us/sample - loss: 0.4053 - accuracy: 0.8317\n",
      "Epoch 11/100\n",
      "8000/8000 [==============================] - 1s 72us/sample - loss: 0.4022 - accuracy: 0.8334\n",
      "Epoch 12/100\n",
      "8000/8000 [==============================] - 1s 107us/sample - loss: 0.3987 - accuracy: 0.8336\n",
      "Epoch 13/100\n",
      "8000/8000 [==============================] - 1s 65us/sample - loss: 0.3944 - accuracy: 0.8361\n",
      "Epoch 14/100\n",
      "8000/8000 [==============================] - 1s 66us/sample - loss: 0.3892 - accuracy: 0.8389\n",
      "Epoch 15/100\n",
      "8000/8000 [==============================] - 1s 65us/sample - loss: 0.3843 - accuracy: 0.8400\n",
      "Epoch 16/100\n",
      "8000/8000 [==============================] - 1s 76us/sample - loss: 0.3791 - accuracy: 0.8436\n",
      "Epoch 17/100\n",
      "8000/8000 [==============================] - 1s 74us/sample - loss: 0.3742 - accuracy: 0.8464\n",
      "Epoch 18/100\n",
      "8000/8000 [==============================] - 1s 70us/sample - loss: 0.3695 - accuracy: 0.8500\n",
      "Epoch 19/100\n",
      "8000/8000 [==============================] - 1s 116us/sample - loss: 0.3655 - accuracy: 0.8495\n",
      "Epoch 20/100\n",
      "8000/8000 [==============================] - 1s 78us/sample - loss: 0.3621 - accuracy: 0.8519\n",
      "Epoch 21/100\n",
      "8000/8000 [==============================] - 1s 66us/sample - loss: 0.3591 - accuracy: 0.8543\n",
      "Epoch 22/100\n",
      "8000/8000 [==============================] - 1s 69us/sample - loss: 0.3562 - accuracy: 0.8559\n",
      "Epoch 23/100\n",
      "8000/8000 [==============================] - 1s 73us/sample - loss: 0.3541 - accuracy: 0.8575\n",
      "Epoch 24/100\n",
      "8000/8000 [==============================] - 1s 67us/sample - loss: 0.3518 - accuracy: 0.8584\n",
      "Epoch 25/100\n",
      "8000/8000 [==============================] - 1s 74us/sample - loss: 0.3506 - accuracy: 0.8595\n",
      "Epoch 26/100\n",
      "8000/8000 [==============================] - 1s 67us/sample - loss: 0.3498 - accuracy: 0.8604\n",
      "Epoch 27/100\n",
      "8000/8000 [==============================] - 1s 67us/sample - loss: 0.3490 - accuracy: 0.8599\n",
      "Epoch 28/100\n",
      "8000/8000 [==============================] - 1s 67us/sample - loss: 0.3475 - accuracy: 0.8600\n",
      "Epoch 29/100\n",
      "8000/8000 [==============================] - 1s 66us/sample - loss: 0.3465 - accuracy: 0.8620\n",
      "Epoch 30/100\n",
      "8000/8000 [==============================] - 1s 83us/sample - loss: 0.3465 - accuracy: 0.8610\n",
      "Epoch 31/100\n",
      "8000/8000 [==============================] - 1s 81us/sample - loss: 0.3462 - accuracy: 0.8604\n",
      "Epoch 32/100\n",
      "8000/8000 [==============================] - 1s 65us/sample - loss: 0.3457 - accuracy: 0.8584\n",
      "Epoch 33/100\n",
      "8000/8000 [==============================] - 1s 68us/sample - loss: 0.3450 - accuracy: 0.8616\n",
      "Epoch 34/100\n",
      "8000/8000 [==============================] - 0s 62us/sample - loss: 0.3451 - accuracy: 0.8605\n",
      "Epoch 35/100\n",
      "8000/8000 [==============================] - 1s 85us/sample - loss: 0.3444 - accuracy: 0.8618\n",
      "Epoch 36/100\n",
      "8000/8000 [==============================] - 1s 105us/sample - loss: 0.3439 - accuracy: 0.8627\n",
      "Epoch 37/100\n",
      "8000/8000 [==============================] - 2s 311us/sample - loss: 0.3435 - accuracy: 0.8602\n",
      "Epoch 38/100\n",
      "8000/8000 [==============================] - 1s 151us/sample - loss: 0.3433 - accuracy: 0.8606\n",
      "Epoch 39/100\n",
      "8000/8000 [==============================] - 1s 109us/sample - loss: 0.3428 - accuracy: 0.8618\n",
      "Epoch 40/100\n",
      "8000/8000 [==============================] - 1s 97us/sample - loss: 0.3426 - accuracy: 0.8631s - los\n",
      "Epoch 41/100\n",
      "8000/8000 [==============================] - 1s 93us/sample - loss: 0.3422 - accuracy: 0.8625\n",
      "Epoch 42/100\n",
      "8000/8000 [==============================] - 1s 94us/sample - loss: 0.3418 - accuracy: 0.8633\n",
      "Epoch 43/100\n",
      "8000/8000 [==============================] - 1s 94us/sample - loss: 0.3419 - accuracy: 0.8631\n",
      "Epoch 44/100\n",
      "8000/8000 [==============================] - 1s 96us/sample - loss: 0.3418 - accuracy: 0.8624\n",
      "Epoch 45/100\n",
      "8000/8000 [==============================] - 1s 97us/sample - loss: 0.3411 - accuracy: 0.8626\n",
      "Epoch 46/100\n",
      "8000/8000 [==============================] - 1s 127us/sample - loss: 0.3412 - accuracy: 0.8635\n",
      "Epoch 47/100\n",
      "8000/8000 [==============================] - ETA: 0s - loss: 0.3425 - accuracy: 0.86 - 1s 96us/sample - loss: 0.3412 - accuracy: 0.8620\n",
      "Epoch 48/100\n",
      "8000/8000 [==============================] - 1s 93us/sample - loss: 0.3408 - accuracy: 0.8631\n",
      "Epoch 49/100\n",
      "8000/8000 [==============================] - 1s 115us/sample - loss: 0.3406 - accuracy: 0.8626\n",
      "Epoch 50/100\n",
      "8000/8000 [==============================] - 1s 94us/sample - loss: 0.3402 - accuracy: 0.8636\n",
      "Epoch 51/100\n",
      "8000/8000 [==============================] - 1s 72us/sample - loss: 0.3403 - accuracy: 0.8631\n",
      "Epoch 52/100\n",
      "8000/8000 [==============================] - 1s 83us/sample - loss: 0.3405 - accuracy: 0.8619\n",
      "Epoch 53/100\n",
      "8000/8000 [==============================] - 1s 68us/sample - loss: 0.3398 - accuracy: 0.8634\n",
      "Epoch 54/100\n",
      "8000/8000 [==============================] - 1s 83us/sample - loss: 0.3400 - accuracy: 0.8616\n",
      "Epoch 55/100\n",
      "8000/8000 [==============================] - 1s 84us/sample - loss: 0.3397 - accuracy: 0.8621s - loss: 0.2983 - accuracy: 0.87 - ETA: 0s - loss: 0.311\n",
      "Epoch 56/100\n",
      "8000/8000 [==============================] - 1s 70us/sample - loss: 0.3393 - accuracy: 0.8620\n",
      "Epoch 57/100\n",
      "8000/8000 [==============================] - 1s 73us/sample - loss: 0.3392 - accuracy: 0.8634\n",
      "Epoch 58/100\n",
      "8000/8000 [==============================] - 1s 65us/sample - loss: 0.3392 - accuracy: 0.8619\n",
      "Epoch 59/100\n",
      "8000/8000 [==============================] - 1s 65us/sample - loss: 0.3392 - accuracy: 0.8625\n",
      "Epoch 60/100\n",
      "8000/8000 [==============================] - 1s 63us/sample - loss: 0.3389 - accuracy: 0.8630\n",
      "Epoch 61/100\n",
      "8000/8000 [==============================] - 1s 65us/sample - loss: 0.3385 - accuracy: 0.8622\n",
      "Epoch 62/100\n",
      "8000/8000 [==============================] - 1s 70us/sample - loss: 0.3383 - accuracy: 0.8616\n",
      "Epoch 63/100\n",
      "8000/8000 [==============================] - 1s 95us/sample - loss: 0.3383 - accuracy: 0.8636\n",
      "Epoch 64/100\n",
      "8000/8000 [==============================] - 1s 70us/sample - loss: 0.3377 - accuracy: 0.8616\n",
      "Epoch 65/100\n",
      "8000/8000 [==============================] - 1s 70us/sample - loss: 0.3376 - accuracy: 0.8612\n",
      "Epoch 66/100\n",
      "8000/8000 [==============================] - 1s 65us/sample - loss: 0.3376 - accuracy: 0.8612\n",
      "Epoch 67/100\n",
      "8000/8000 [==============================] - 1s 68us/sample - loss: 0.3377 - accuracy: 0.8635\n",
      "Epoch 68/100\n",
      "8000/8000 [==============================] - 1s 69us/sample - loss: 0.3369 - accuracy: 0.8626\n",
      "Epoch 69/100\n",
      "8000/8000 [==============================] - 0s 57us/sample - loss: 0.3375 - accuracy: 0.8615\n",
      "Epoch 70/100\n",
      "8000/8000 [==============================] - ETA: 0s - loss: 0.3393 - accuracy: 0.86 - 1s 70us/sample - loss: 0.3370 - accuracy: 0.8627\n",
      "Epoch 71/100\n",
      "8000/8000 [==============================] - 1s 68us/sample - loss: 0.3372 - accuracy: 0.8639\n",
      "Epoch 72/100\n",
      "8000/8000 [==============================] - 1s 82us/sample - loss: 0.3369 - accuracy: 0.8636\n",
      "Epoch 73/100\n",
      "8000/8000 [==============================] - 1s 71us/sample - loss: 0.3366 - accuracy: 0.8615\n",
      "Epoch 74/100\n",
      "8000/8000 [==============================] - 3s 314us/sample - loss: 0.3366 - accuracy: 0.8614\n",
      "Epoch 75/100\n",
      "8000/8000 [==============================] - 1s 170us/sample - loss: 0.3364 - accuracy: 0.8631 - l\n",
      "Epoch 76/100\n",
      "8000/8000 [==============================] - 1s 111us/sample - loss: 0.3360 - accuracy: 0.8631\n",
      "Epoch 77/100\n",
      "8000/8000 [==============================] - 1s 82us/sample - loss: 0.3361 - accuracy: 0.8635\n",
      "Epoch 78/100\n",
      "8000/8000 [==============================] - 1s 86us/sample - loss: 0.3363 - accuracy: 0.8625\n",
      "Epoch 79/100\n",
      "8000/8000 [==============================] - 1s 77us/sample - loss: 0.3361 - accuracy: 0.8630\n",
      "Epoch 80/100\n",
      "8000/8000 [==============================] - 1s 75us/sample - loss: 0.3356 - accuracy: 0.8636\n",
      "Epoch 81/100\n",
      "8000/8000 [==============================] - 1s 75us/sample - loss: 0.3357 - accuracy: 0.8637\n",
      "Epoch 82/100\n",
      "8000/8000 [==============================] - 1s 76us/sample - loss: 0.3354 - accuracy: 0.8634\n",
      "Epoch 83/100\n",
      "8000/8000 [==============================] - 1s 76us/sample - loss: 0.3357 - accuracy: 0.8639\n",
      "Epoch 84/100\n",
      "8000/8000 [==============================] - 1s 76us/sample - loss: 0.3357 - accuracy: 0.8630\n",
      "Epoch 85/100\n",
      "8000/8000 [==============================] - 1s 77us/sample - loss: 0.3347 - accuracy: 0.8641\n",
      "Epoch 86/100\n",
      "8000/8000 [==============================] - 1s 103us/sample - loss: 0.3349 - accuracy: 0.8633\n",
      "Epoch 87/100\n",
      "8000/8000 [==============================] - 1s 108us/sample - loss: 0.3344 - accuracy: 0.8634\n",
      "Epoch 88/100\n",
      "8000/8000 [==============================] - 1s 97us/sample - loss: 0.3345 - accuracy: 0.8645\n",
      "Epoch 89/100\n",
      "8000/8000 [==============================] - 1s 107us/sample - loss: 0.3343 - accuracy: 0.8651\n",
      "Epoch 90/100\n",
      "8000/8000 [==============================] - 1s 102us/sample - loss: 0.3344 - accuracy: 0.8644\n",
      "Epoch 91/100\n",
      "8000/8000 [==============================] - 1s 111us/sample - loss: 0.3335 - accuracy: 0.8633\n",
      "Epoch 92/100\n",
      "8000/8000 [==============================] - 1s 112us/sample - loss: 0.3346 - accuracy: 0.8627\n",
      "Epoch 93/100\n",
      "8000/8000 [==============================] - 1s 108us/sample - loss: 0.3337 - accuracy: 0.8643\n",
      "Epoch 94/100\n",
      "8000/8000 [==============================] - 1s 101us/sample - loss: 0.3340 - accuracy: 0.8639\n",
      "Epoch 95/100\n",
      "8000/8000 [==============================] - 1s 87us/sample - loss: 0.3342 - accuracy: 0.8636\n",
      "Epoch 96/100\n",
      "8000/8000 [==============================] - 1s 83us/sample - loss: 0.3335 - accuracy: 0.8648\n",
      "Epoch 97/100\n",
      "8000/8000 [==============================] - 1s 80us/sample - loss: 0.3339 - accuracy: 0.8618s - loss: 0\n",
      "Epoch 98/100\n",
      "8000/8000 [==============================] - 1s 127us/sample - loss: 0.3333 - accuracy: 0.8635\n",
      "Epoch 99/100\n",
      "8000/8000 [==============================] - 2s 220us/sample - loss: 0.3332 - accuracy: 0.8635\n",
      "Epoch 100/100\n",
      "8000/8000 [==============================] - 1s 158us/sample - loss: 0.3332 - accuracy: 0.8651\n"
     ]
    },
    {
     "data": {
      "text/plain": [
       "<tensorflow.python.keras.callbacks.History at 0x15022257f28>"
      ]
     },
     "execution_count": 21,
     "metadata": {},
     "output_type": "execute_result"
    }
   ],
   "source": [
    "# this is the usual fit method that takes in x & y as input.\n",
    "# Since we are training the neural network, we have to provide additional parameters - batch_size & epochs\n",
    "ann.fit(x_train, y_train, batch_size=32, epochs=100 )    # batch_size 32 is the default value\n",
    "                                                         # don't choose too small epoch.\n",
    "    \n",
    "# If u observe the output, it started to converge at accuracy 86 on 40th epoch. So we could keep epoch as 40 instead of 100."
   ]
  },
  {
   "cell_type": "markdown",
   "metadata": {},
   "source": [
    "### Step 4: Making the predictions & evaluating the model"
   ]
  },
  {
   "cell_type": "markdown",
   "metadata": {},
   "source": [
    "#### Predicting result of a single observation\n",
    "\n",
    "Input feature values:<ul>\n",
    "<li>Geography: France</li>\n",
    "<li>Credit Score: 600</li>\n",
    "<li>Gender: Male</li>\n",
    "<li>Age: 40 yrs old</li>\n",
    "<li>Tenure: 3 yrs</li>\n",
    "<li>Balance: &#36; 60000 </li>\n",
    "<li>No. of products: 2 </li>\n",
    "<li>Does customer have a credit card?: Yes</li>\n",
    "<li>Is this customer an Active Member?: Yes</li>\n",
    "<li>Estimated Salary: &#36;50000</li>\n",
    "</ul>\n",
    "So will this customer say Goodbye?"
   ]
  },
  {
   "cell_type": "code",
   "execution_count": 26,
   "metadata": {},
   "outputs": [
    {
     "name": "stdout",
     "output_type": "stream",
     "text": [
      "[[0.02870246]]\n"
     ]
    }
   ],
   "source": [
    "print(ann.predict(sc.transform([[1, 0, 0, 600, 1, 40, 3, 60000, 2, 1, 1, 50000]])))  # Any inputs to the predict is 2D array\n",
    "                                            # France is denoted by 1 as per encoding above\n",
    "                                            # We had scaled the matrix above. SO we should call the predict() on scaled data\n",
    "# Here we expect the answer to be a probability since we used the sigmoid activation function in the output layer. \n",
    "# We will later convert this to 1 & 0 (binary output)\n",
    "\n",
    "# If you check the output of this stmt, the probability is really low of this person exiting the bank."
   ]
  },
  {
   "cell_type": "code",
   "execution_count": 27,
   "metadata": {},
   "outputs": [
    {
     "name": "stdout",
     "output_type": "stream",
     "text": [
      "[[False]]\n"
     ]
    }
   ],
   "source": [
    "# To print True (customer will leave) or False (customer will not leave) instead of probability we can add a condition as follow\n",
    "print(ann.predict(sc.transform([[1, 0, 0, 600, 1, 40, 3, 60000, 2, 1, 1, 50000]]))>0.5)"
   ]
  },
  {
   "cell_type": "markdown",
   "metadata": {},
   "source": [
    "#### Predicting the Test set results"
   ]
  },
  {
   "cell_type": "code",
   "execution_count": 36,
   "metadata": {},
   "outputs": [
    {
     "name": "stdout",
     "output_type": "stream",
     "text": [
      "[[0 0]\n",
      " [0 1]\n",
      " [0 0]\n",
      " ...\n",
      " [0 0]\n",
      " [0 0]\n",
      " [0 0]]\n"
     ]
    }
   ],
   "source": [
    "y_pred = ann.predict(x_test)\n",
    "y_pred = (y_pred>0.5)         # Set y_pred to binary value i.e T/F\n",
    "\n",
    "# Print the y_test & y_pred\n",
    "#print(y_pred)          # y_pred has 2 dimensions\n",
    "'''   y_pred =          [[False]\n",
    "                         [False]\n",
    "                         [False]\n",
    "                         ...\n",
    "                         [False]\n",
    "                         [False]\n",
    "                         [False]] \n",
    "'''\n",
    "#print(y_test)     # y_test has 1 dimension --->  [0 1 0 ... 0 0 0]    \n",
    "print(np.concatenate((y_pred.reshape(len(y_pred),1),y_test.reshape(len(y_test),1)),axis=1))   # both should have same shape"
   ]
  },
  {
   "cell_type": "markdown",
   "metadata": {},
   "source": [
    "#### Making the confusion matrix"
   ]
  },
  {
   "cell_type": "code",
   "execution_count": 37,
   "metadata": {},
   "outputs": [
    {
     "name": "stdout",
     "output_type": "stream",
     "text": [
      "[[1509   86]\n",
      " [ 195  210]]\n"
     ]
    },
    {
     "data": {
      "text/plain": [
       "0.8595"
      ]
     },
     "execution_count": 37,
     "metadata": {},
     "output_type": "execute_result"
    }
   ],
   "source": [
    "from sklearn.metrics import confusion_matrix, accuracy_score\n",
    "cm = confusion_matrix(y_test,y_pred)\n",
    "print(cm)\n",
    "\n",
    "accuracy_score(y_test, y_pred)"
   ]
  },
  {
   "cell_type": "code",
   "execution_count": null,
   "metadata": {},
   "outputs": [],
   "source": []
  }
 ],
 "metadata": {
  "kernelspec": {
   "display_name": "Python 3",
   "language": "python",
   "name": "python3"
  },
  "language_info": {
   "codemirror_mode": {
    "name": "ipython",
    "version": 3
   },
   "file_extension": ".py",
   "mimetype": "text/x-python",
   "name": "python",
   "nbconvert_exporter": "python",
   "pygments_lexer": "ipython3",
   "version": "3.8.5"
  }
 },
 "nbformat": 4,
 "nbformat_minor": 2
}
